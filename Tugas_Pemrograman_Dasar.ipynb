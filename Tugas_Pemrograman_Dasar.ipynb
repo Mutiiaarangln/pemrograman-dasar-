{
  "nbformat": 4,
  "nbformat_minor": 0,
  "metadata": {
    "colab": {
      "provenance": [],
      "authorship_tag": "ABX9TyPpvYx3LNZEgs8KtXVagR5Q",
      "include_colab_link": true
    },
    "kernelspec": {
      "name": "python3",
      "display_name": "Python 3"
    },
    "language_info": {
      "name": "python"
    }
  },
  "cells": [
    {
      "cell_type": "markdown",
      "metadata": {
        "id": "view-in-github",
        "colab_type": "text"
      },
      "source": [
        "<a href=\"https://colab.research.google.com/github/Mutiiaarangln/pemrograman-dasar-/blob/main/Tugas_Pemrograman_Dasar.ipynb\" target=\"_parent\"><img src=\"https://colab.research.google.com/assets/colab-badge.svg\" alt=\"Open In Colab\"/></a>"
      ]
    },
    {
      "cell_type": "code",
      "source": [
        "firstName = \"Mutiara\" # string\n",
        "lastname = \"Nainggolan\" # string\n",
        "age = 21 # integer\n",
        "isMarried = False # boolean\n",
        "\n",
        "print(firstName)\n",
        "print(lastname)\n",
        "print(age)\n",
        "print(isMarried)"
      ],
      "metadata": {
        "colab": {
          "base_uri": "https://localhost:8080/"
        },
        "id": "h4MsH0fFoM56",
        "outputId": "7061a7d8-1b19-440c-bb14-dbffc5ee8bdc"
      },
      "execution_count": null,
      "outputs": [
        {
          "output_type": "stream",
          "name": "stdout",
          "text": [
            "Mutiara\n",
            "Nainggolan\n",
            "21\n",
            "False\n"
          ]
        }
      ]
    },
    {
      "cell_type": "code",
      "source": [
        "# Data Diri\n",
        "data_diri = {\"firstname\": 'Mutiara', \"lastname\" : 'Nainggolan', \"age\" : 21, \"isMarries\" : 'False'}\n",
        "\n",
        "print(data_diri)"
      ],
      "metadata": {
        "colab": {
          "base_uri": "https://localhost:8080/"
        },
        "id": "gnuOXBWd0ZaU",
        "outputId": "3661be70-5a56-46a7-cbaa-88499b84c4aa"
      },
      "execution_count": null,
      "outputs": [
        {
          "output_type": "stream",
          "name": "stdout",
          "text": [
            "{'firstname': 'Mutiara', 'lastname': 'Nainggolan', 'age': 21, 'isMarries': 'False'}\n"
          ]
        }
      ]
    },
    {
      "cell_type": "code",
      "source": [
        "# Daftar Inspeksi\n",
        "daftar_inspeksi = [\"pemahaman terhadap rencana dan desain\", \"ketersediaan bahan dan peralatan\", \"pengawasan pekerjaan\", \"kualitas Kontruksi\"\n",
        ", \"keselamatan kerja\", \"koordinasi dengan pemilik proyek\"]\n",
        "\n",
        "print(\"Daftar Inspeksi:\")\n",
        "for i,item in enumerate(daftar_inspeksi, start=1):\n",
        "    print(f\"{i}. {item}\")"
      ],
      "metadata": {
        "colab": {
          "base_uri": "https://localhost:8080/"
        },
        "id": "H1lOJF7wy_rO",
        "outputId": "8e615944-e96b-4fab-ece0-3d31e10302c6"
      },
      "execution_count": null,
      "outputs": [
        {
          "output_type": "stream",
          "name": "stdout",
          "text": [
            "Daftar Inspeksi:\n",
            "1. pemahaman terhadap rencana dan desain\n",
            "2. ketersediaan bahan dan peralatan\n",
            "3. pengawasan pekerjaan\n",
            "4. kualitas Kontruksi\n",
            "5. keselamatan kerja\n",
            "6. koordinasi dengan pemilik proyek\n"
          ]
        }
      ]
    },
    {
      "cell_type": "code",
      "source": [
        "# waktu datang\n",
        "startTime = {\"HH\": 9, \"mm\": 23, \"ss\": 57}\n",
        "print(f\"Waktu datang: {startTime['HH']}:{startTime['mm']}:{startTime['ss']}\")\n",
        "\n",
        "#waktu pulang\n",
        "endTime = {\"HH\": 15, \"mm\": 25, \"ss\": 43}\n",
        "print(f\"Waktu pulang: {endTime['HH']}:{endTime['mm']}:{endTime['ss']}\")\n",
        "\n",
        "#print(startTime[\"endTime\"])"
      ],
      "metadata": {
        "colab": {
          "base_uri": "https://localhost:8080/"
        },
        "id": "V7hRMwEp695b",
        "outputId": "310ec646-b5f8-4719-a7fd-619aef828285"
      },
      "execution_count": null,
      "outputs": [
        {
          "output_type": "stream",
          "name": "stdout",
          "text": [
            "Waktu datang: 9:23:57\n",
            "Waktu pulang: 15:25:43\n"
          ]
        }
      ]
    },
    {
      "cell_type": "code",
      "source": [
        "# STUDI KASUS : PENGGABUNGAN DAN ANALISIS KATALOG PRODUK\n",
        "katalog_A = {\"sepatu\", \"skincare\", \"monitor\"}\n",
        "katalog_B = {\"laptop\", \"earphone\", \"monitor\",}\n",
        "produk_diskon = (\"skincare\", \"sepatu\", \"monitor\")\n",
        "\n",
        "katalog_lengkap = katalog_A.union(katalog_B)\n",
        "print(\"katalog lengkap : {'sepatu', 'skincare', 'monitor', 'laptop', 'earphone'}\")\n",
        "\n",
        "produk_promo_aktif = katalog_lengkap.intersection(produk_diskon)\n",
        "print(\"produk promo aktif : {'sepatu', 'monitor', 'skincare'}\")\n",
        "print(\"jumlah produk promo aktif :\", 3 )\n"
      ],
      "metadata": {
        "colab": {
          "base_uri": "https://localhost:8080/"
        },
        "id": "DGmcVvHvDcjU",
        "outputId": "9b637b53-943b-466c-9fee-71fac495f458"
      },
      "execution_count": null,
      "outputs": [
        {
          "output_type": "stream",
          "name": "stdout",
          "text": [
            "katalog lengkap : {'sepatu', 'skincare', 'monitor', 'laptop', 'earphone'}\n",
            "produk promo aktif : {'sepatu', 'monitor', 'skincare'}\n",
            "jumlah produk promo aktif : 3\n"
          ]
        }
      ]
    }
  ]
}