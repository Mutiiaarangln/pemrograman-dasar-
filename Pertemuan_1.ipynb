{
  "nbformat": 4,
  "nbformat_minor": 0,
  "metadata": {
    "colab": {
      "provenance": [],
      "authorship_tag": "ABX9TyNHy5DUQon1nE0GVsdf2HOE",
      "include_colab_link": true
    },
    "kernelspec": {
      "name": "python3",
      "display_name": "Python 3"
    },
    "language_info": {
      "name": "python"
    }
  },
  "cells": [
    {
      "cell_type": "markdown",
      "metadata": {
        "id": "view-in-github",
        "colab_type": "text"
      },
      "source": [
        "<a href=\"https://colab.research.google.com/github/Mutiiaarangln/pemrograman-dasar-/blob/main/Pertemuan_1.ipynb\" target=\"_parent\"><img src=\"https://colab.research.google.com/assets/colab-badge.svg\" alt=\"Open In Colab\"/></a>"
      ]
    },
    {
      "cell_type": "code",
      "source": [
        "nama = \"mutiara nainggolan\"\n",
        "umur = 26\n",
        "jurusan = \"RPE\"\n",
        "semester = 3\n",
        "matakuliah = 'Pemerograman Dasar'\n",
        "status_lulus = False\n",
        "\n",
        "print (nama)\n",
        "print (umur)\n",
        "print (jurusan)\n",
        "print (semester)\n",
        "print (matakuliah)\n",
        "print (status_lulus)\n"
      ],
      "metadata": {
        "colab": {
          "base_uri": "https://localhost:8080/"
        },
        "id": "5D5HpGKCc9JC",
        "outputId": "8067d957-c929-437b-d01c-564bab668b74"
      },
      "execution_count": null,
      "outputs": [
        {
          "output_type": "stream",
          "name": "stdout",
          "text": [
            "mutiara nainggolan\n",
            "26\n",
            "RPE\n",
            "3\n",
            "Pemerograman Dasar\n",
            "False\n"
          ]
        }
      ]
    }
  ]
}