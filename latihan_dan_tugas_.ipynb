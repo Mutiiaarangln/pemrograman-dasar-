{
  "nbformat": 4,
  "nbformat_minor": 0,
  "metadata": {
    "colab": {
      "provenance": [],
      "authorship_tag": "ABX9TyNSHP+49MhKypGHbpUjGIg8",
      "include_colab_link": true
    },
    "kernelspec": {
      "name": "python3",
      "display_name": "Python 3"
    },
    "language_info": {
      "name": "python"
    }
  },
  "cells": [
    {
      "cell_type": "markdown",
      "metadata": {
        "id": "view-in-github",
        "colab_type": "text"
      },
      "source": [
        "<a href=\"https://colab.research.google.com/github/Mutiiaarangln/pemrograman-dasar-/blob/main/latihan_dan_tugas_.ipynb\" target=\"_parent\"><img src=\"https://colab.research.google.com/assets/colab-badge.svg\" alt=\"Open In Colab\"/></a>"
      ]
    },
    {
      "cell_type": "code",
      "execution_count": 18,
      "metadata": {
        "colab": {
          "base_uri": "https://localhost:8080/"
        },
        "id": "4C_y6KUgmsYf",
        "outputId": "f4b1bf8e-475b-40be-f846-784fea458074"
      },
      "outputs": [
        {
          "output_type": "stream",
          "name": "stdout",
          "text": [
            " Masukkan sebuah angka : 25\n",
            "Kelipatan 5\n"
          ]
        }
      ],
      "source": [
        "angka = int(input(\" Masukkan sebuah angka : \"))\n",
        "if angka %  5 == 0:\n",
        "  print(\"Kelipatan 5\")\n",
        "else:\n",
        "  print(\"Bukan kelipatan 5\")"
      ]
    },
    {
      "cell_type": "code",
      "source": [
        "tahun = int(input(\"Masukkan tahun : \"))\n",
        "print((f\"{tahun} adalah tahun kabisat.\") * (((tahun % 4 == 0 and tahun % 100 != 0) or (tahun % 400 == 0)))\n",
        "or f\"{tahun} bukan tahun kabisat.\")"
      ],
      "metadata": {
        "colab": {
          "base_uri": "https://localhost:8080/"
        },
        "id": "pd0W3tKerqHT",
        "outputId": "35f47897-a71e-4926-86d3-625787b6bd00"
      },
      "execution_count": 48,
      "outputs": [
        {
          "output_type": "stream",
          "name": "stdout",
          "text": [
            "Masukkan tahun : 2025\n",
            "2025 bukan tahun kabisat.\n"
          ]
        }
      ]
    },
    {
      "cell_type": "code",
      "source": [
        "uang = int(input(\"Uang yang saya bawa (Rp): \"))\n",
        "print(\"1. Pai\")\n",
        "print(\"2. Donat\")\n",
        "print(\"3. kue bawang\")\n",
        "pilih = int(input(\"Pilih jenis kue (1/2/3): \"))\n",
        "if pilih == 1:\n",
        "  print(\"Jenis kue yang dipilih adalah Pai:, rupiah / 20000\")\n",
        "elif pilih == 2:\n",
        "  print(\"Jenis kue yang dipilih adalah Donat:, rupiah / 25000\")\n",
        "elif pilih == 3:\n",
        "  print(\"Jenis kue yang dipilih adalah kue bawang:, rupiah / 30000\")\n",
        "else:\n",
        "  print(\"Pilihan tidak valid\")\n",
        "\n",
        "if harga > 0:\n",
        "  sisa = uang - harga\n",
        "  if sisa >= 0:\n",
        "    print(\"sisa uang setelah membeli kue adalah RP\", sisa)\n",
        "else:\n",
        "  print(\"Uang tidak cukup! Anda kekurangan Rp\", abs(sisa))"
      ],
      "metadata": {
        "colab": {
          "base_uri": "https://localhost:8080/"
        },
        "id": "u_ONDIIv22It",
        "outputId": "a675b115-2cae-4dc7-a4d4-e0f583db5953"
      },
      "execution_count": 51,
      "outputs": [
        {
          "output_type": "stream",
          "name": "stdout",
          "text": [
            "Uang yang saya bawa (Rp): 50000\n",
            "1. Pai\n",
            "2. Donat\n",
            "3. kue bawang\n",
            "Pilih jenis kue (1/2/3): 3\n",
            "Jenis kue yang dipilih adalah kue bawang:, rupiah / 30000\n",
            "sisa uang setelah membeli kue adalah RP 20000\n"
          ]
        }
      ]
    },
    {
      "cell_type": "code",
      "source": [
        "bulan = int(input(\"Masukkan bulan (1-12): \"))\n",
        "if bulan == 1:\n",
        "  print(\"Januari\")\n",
        "elif bulan == 2:\n",
        "  print(\"Februari\")\n",
        "elif bulan == 3:\n",
        "  print(\"Maret\")\n",
        "elif bulan == 4:\n",
        "  print(\"April\")\n",
        "elif bulan == 5:\n",
        "  print(\"Mei\")\n",
        "elif bulan == 6:\n",
        "  print(\"Juni\")\n",
        "elif bulan == 7:\n",
        "  print(\"Juli\")\n",
        "elif bulan == 8:\n",
        "  print(\"Agustus\")\n",
        "elif bulan == 9:\n",
        "  print(\"September\")\n",
        "elif bulan == 10:\n",
        "  print(\"Oktober\")\n",
        "elif bulan == 11:\n",
        "  print(\"November\")\n",
        "elif bulan == 12:\n",
        "  print(\"Desember\")\n",
        "else:\n",
        "  print(\"Input salah\")"
      ],
      "metadata": {
        "colab": {
          "base_uri": "https://localhost:8080/"
        },
        "id": "bzpvrSay6sxc",
        "outputId": "d074eaf8-24ae-434b-ad8f-7481d1f0b56c"
      },
      "execution_count": 23,
      "outputs": [
        {
          "output_type": "stream",
          "name": "stdout",
          "text": [
            "Masukkan bulan (1-12): 14\n",
            "Input salah\n"
          ]
        }
      ]
    },
    {
      "cell_type": "code",
      "source": [
        "jam = int(input(\"Masukkan jam (0-23): \"))\n",
        "if jam >= 0 and jam < 11:\n",
        "  print(\"Selamat pagi!\")\n",
        "elif jam >= 12 and jam < 15:\n",
        "  print(\"Selamat siang!\")\n",
        "elif jam >= 16 and jam < 18:\n",
        "  print(\"Selamat sore!\")\n",
        "elif jam >= 19 and jam <= 23:\n",
        "  print(\"Selamat malam!\")\n",
        "else:\n",
        "  print(\"Input salah, jam harus antara o - 23\")"
      ],
      "metadata": {
        "colab": {
          "base_uri": "https://localhost:8080/"
        },
        "id": "TRg1wdbi9tP3",
        "outputId": "9f117f5e-16cd-4196-83d0-a5f4ef9163f8"
      },
      "execution_count": 24,
      "outputs": [
        {
          "output_type": "stream",
          "name": "stdout",
          "text": [
            "Masukkan jam (0-23): 20\n",
            "Selamat malam!\n"
          ]
        }
      ]
    },
    {
      "cell_type": "code",
      "source": [
        "print(\"=\"*30)\n",
        "print(\"SELAMAT DATANG DI KAFE GEMINI\")\n",
        "print(\"-\"*30)\n",
        "print(\"Menu Makanan & Minuman:\")\n",
        "print(\"1. Kopi Hitam - Rp 45000\")\n",
        "print(\"2. Teh Manis - Rp 20000\")\n",
        "print(\"3. Roti Bakar - Rp 30000\")\n",
        "print(\"4. Mie Instan - Rp 35000\")\n",
        "print(\"-\"*30)\n",
        "\n",
        "pilihan_str: str = input(\"Silahkan masukkan nomor pilihan Anda (1-4): \")\n",
        "pilihan: int = int(pilihan_str)\n",
        "harga: int = 0\n",
        "nama_pesanan: str = \"\"\n",
        "diskon: int = 0\n",
        "\n",
        "if pilihan == 1:\n",
        "   nama_pesanan = \"Kopi Hitam\"\n",
        "   harga = 45000\n",
        "   diskon = 70\n",
        "   print(f\"Anda memesan: {nama_pesanan} dengan harga Rp {harga}\")\n",
        "elif pilihan == 2:\n",
        "   nama_pesanan = \"Teh Manis\"\n",
        "   harga = 20000\n",
        "   diskon = 30\n",
        "   print(f\"Anda memesan: {nama_pesanan} dengan harga Rp {harga}\")\n",
        "elif pilihan == 3:\n",
        "   nama_pesanan = \"Roti Bakar\"\n",
        "   harga = 30000\n",
        "   diskon = 10\n",
        "   print(f\"Anda memesan: {nama_pesanan} dengan harga Rp {harga}\")\n",
        "elif pilihan == 4:\n",
        "   nama_pesanan = \"Mie Instan\"\n",
        "   harga = 35000\n",
        "   diskon = 50\n",
        "   print(f\"Anda memesan: {nama_pesanan} dengan harga Rp {harga}\")\n",
        "else:\n",
        "   print(\"Maaf, pilihan menu tidak valid. Silahkan jalankan ulang program.\")\n",
        "\n",
        "if harga > 0:\n",
        "    potongan = harga * diskon / 100\n",
        "    total_bayar = harga - potongan\n",
        "    print(f\"Diskon: {diskon}%\")\n",
        "    print(f\"Potongan harga: Rp {potongan}\")\n",
        "\n",
        "    uang_dibayar_str: str = input(f\"Total yang harus dibayar: Rp {total_bayar}. Masukkan Jumlah uang Anda: Rp \")\n",
        "    uang_dibayar: int = int(uang_dibayar_str)\n",
        "\n",
        "    if uang_dibayar >= total_bayar:\n",
        "      kembalian: int = int(uang_dibayar - total_bayar)\n",
        "      print(\"\\n--- Struk Pembayaran ---\")\n",
        "      print(f\"Pesanan Anda: {nama_pesanan}\")\n",
        "      print(f\"Total Harga: Rp {harga}\")\n",
        "      print(f\"Diskon ({diskon}%): Rp {potongan}\")\n",
        "      print(f\"Total Bayar: Rp {total_bayar}\")\n",
        "      print(f\"Uang Pembayaran: Rp {uang_dibayar}\")\n",
        "      print(f\"Kembalian: Rp {kembalian}\")\n",
        "      print(\"---------------------------\")\n",
        "    else:\n",
        "      kekurangan: int = int(total_bayar - uang_dibayar)\n",
        "      print(f\"Maaf, Uang Anda kurang sebesar Rp {kekurangan}.\")\n",
        "    print(\"=\"*30)"
      ],
      "metadata": {
        "colab": {
          "base_uri": "https://localhost:8080/"
        },
        "id": "JYlAhOwHNhQN",
        "outputId": "cc1332c5-7685-45fa-b13d-1528e793b368"
      },
      "execution_count": 54,
      "outputs": [
        {
          "output_type": "stream",
          "name": "stdout",
          "text": [
            "==============================\n",
            "SELAMAT DATANG DI KAFE GEMINI\n",
            "------------------------------\n",
            "Menu Makanan & Minuman:\n",
            "1. Kopi Hitam - Rp 45000\n",
            "2. Teh Manis - Rp 20000\n",
            "3. Roti Bakar - Rp 30000\n",
            "4. Mie Instan - Rp 35000\n",
            "------------------------------\n",
            "Silahkan masukkan nomor pilihan Anda (1-4): 3\n",
            "Anda memesan: Roti Bakar dengan harga Rp 30000\n",
            "Diskon: 10%\n",
            "Potongan harga: Rp 3000.0\n",
            "Total yang harus dibayar: Rp 27000.0. Masukkan Jumlah uang Anda: Rp 50000\n",
            "\n",
            "--- Struk Pembayaran ---\n",
            "Pesanan Anda: Roti Bakar\n",
            "Total Harga: Rp 30000\n",
            "Diskon (10%): Rp 3000.0\n",
            "Total Bayar: Rp 27000.0\n",
            "Uang Pembayaran: Rp 50000\n",
            "Kembalian: Rp 23000\n",
            "---------------------------\n",
            "==============================\n"
          ]
        }
      ]
    },
    {
      "cell_type": "code",
      "source": [],
      "metadata": {
        "id": "5-UlFbo4SIbD"
      },
      "execution_count": null,
      "outputs": []
    }
  ]
}