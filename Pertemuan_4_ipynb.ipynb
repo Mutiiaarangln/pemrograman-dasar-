{
  "nbformat": 4,
  "nbformat_minor": 0,
  "metadata": {
    "colab": {
      "provenance": [],
      "authorship_tag": "ABX9TyM85XjasfKK7y+qB7ULToGP",
      "include_colab_link": true
    },
    "kernelspec": {
      "name": "python3",
      "display_name": "Python 3"
    },
    "language_info": {
      "name": "python"
    }
  },
  "cells": [
    {
      "cell_type": "markdown",
      "metadata": {
        "id": "view-in-github",
        "colab_type": "text"
      },
      "source": [
        "<a href=\"https://colab.research.google.com/github/Mutiiaarangln/pemrograman-dasar-/blob/main/Pertemuan_4_ipynb.ipynb\" target=\"_parent\"><img src=\"https://colab.research.google.com/assets/colab-badge.svg\" alt=\"Open In Colab\"/></a>"
      ]
    },
    {
      "cell_type": "code",
      "execution_count": null,
      "metadata": {
        "colab": {
          "base_uri": "https://localhost:8080/"
        },
        "id": "p8sZZJG4Tdwv",
        "outputId": "66f26696-5ae0-4459-a3ef-a37385a090af"
      },
      "outputs": [
        {
          "output_type": "stream",
          "name": "stdout",
          "text": [
            "pengunjung adalah orang dewasa\n"
          ]
        }
      ],
      "source": [
        "# Variabel untuk menyimpan umur pengunjung\n",
        "umur: int = 20\n",
        "if umur > 17 :\n",
        "  print(\"pengunjung adalah orang dewasa\")"
      ]
    },
    {
      "cell_type": "code",
      "source": [
        "username = input(\"Masukkan username: \")\n",
        "password = input(\"Masukkan password: \")\n",
        "if username == \"admin\" and password == \"1234\" :\n",
        "  print(\"Login berhasil\")\n",
        "else:\n",
        "  print(\"Login gagal\")"
      ],
      "metadata": {
        "colab": {
          "base_uri": "https://localhost:8080/"
        },
        "id": "DE1VQi5ZUz8K",
        "outputId": "a0196acd-2234-4bc8-8757-be8c0fd501fe"
      },
      "execution_count": null,
      "outputs": [
        {
          "output_type": "stream",
          "name": "stdout",
          "text": [
            "Masukkan username: admin\n",
            "Masukkan password: 1234\n",
            "Login berhasil\n"
          ]
        }
      ]
    },
    {
      "cell_type": "code",
      "source": [
        "total_belanja = input(\"Total belanja: Rp \")\n",
        "bayar = int(total_belanja)\n",
        "if int(total_belanja) > 100000:\n",
        "  print(\"Selamat Karena Belanja > Rp. 100.000 anda mendapat Voucher Makan \")\n",
        "  print(\"dan diskon %5\")\n",
        "  diskon = int(total_belanja) * 5/100 #5%\n",
        "  bayar = int(total_belanja) - diskon\n",
        "print(\"Total yang harus dibayar: Rp %s\" % bayar)\n",
        "print(\"Terima kasih sudah berbelanja di Toko Kami\")\n",
        "print(\"Kami Tunggu kunjungan anda selanjutnya.\")"
      ],
      "metadata": {
        "colab": {
          "base_uri": "https://localhost:8080/"
        },
        "id": "u01eoIMsVUEw",
        "outputId": "80dc429a-d763-4ffb-a6be-9d2cd6ceaca7"
      },
      "execution_count": null,
      "outputs": [
        {
          "output_type": "stream",
          "name": "stdout",
          "text": [
            "Total belanja: Rp 95000\n",
            "Total yang harus dibayar: Rp 95000\n",
            "Terima kasih sudah berbelanja di Toko Kami\n",
            "Kami Tunggu kunjungan anda selanjutnya.\n"
          ]
        }
      ]
    },
    {
      "cell_type": "code",
      "source": [
        "ada_notifikasi_baru: bool = True\n",
        "if ada_notifikasi_baru:\n",
        "    print(\"Anda memiliki pesan baru!\")"
      ],
      "metadata": {
        "colab": {
          "base_uri": "https://localhost:8080/"
        },
        "id": "mzOq_6aWWSgu",
        "outputId": "2a19ace5-956a-480d-c7e2-3b11c2b44383"
      },
      "execution_count": null,
      "outputs": [
        {
          "output_type": "stream",
          "name": "stdout",
          "text": [
            "Anda memiliki pesan baru!\n"
          ]
        }
      ]
    },
    {
      "cell_type": "code",
      "source": [
        "umur = input(\"Berapa umur kamu: \")\n",
        "if int(umur) > 18:\n",
        "  print(\"Kamu boleh membuat SIM\")\n",
        "else:\n",
        "  print(\"Kamu belum boleh membuat SIM\")\n"
      ],
      "metadata": {
        "colab": {
          "base_uri": "https://localhost:8080/"
        },
        "id": "c6oJL1bcatgD",
        "outputId": "561fc6fb-d882-4a4c-bd1a-97a87365ded9"
      },
      "execution_count": null,
      "outputs": [
        {
          "output_type": "stream",
          "name": "stdout",
          "text": [
            "Berapa umur kamu: 21\n",
            "Kamu boleh membuat SIM\n"
          ]
        }
      ]
    },
    {
      "cell_type": "code",
      "source": [
        "total_belanja = 50000\n",
        "if total_belanja > 20000:\n",
        "  diskon = total_belanja * 0.10\n",
        "  total_bayar = total_belanja - diskon\n",
        "  print(f\"Anda mendapat diskon Total bayar: Rp {total_bayar}\")\n",
        "else:\n",
        "  print(f\"Total bayar: Rp {total_belanja}\")"
      ],
      "metadata": {
        "colab": {
          "base_uri": "https://localhost:8080/"
        },
        "id": "jBb5Os-Pa4M5",
        "outputId": "b9379c16-f79d-4538-faca-05a9622ae62c"
      },
      "execution_count": null,
      "outputs": [
        {
          "output_type": "stream",
          "name": "stdout",
          "text": [
            "Anda mendapat diskon Total bayar: Rp 45000.0\n"
          ]
        }
      ]
    },
    {
      "cell_type": "code",
      "source": [
        "angka = int(input(\"Masukkan bilangan: \"))\n",
        "if angka % 2 == 0:\n",
        "  print(\"Bilangan Genap\")\n",
        "else:\n",
        "  print(\"Bilangan Ganjil\")"
      ],
      "metadata": {
        "colab": {
          "base_uri": "https://localhost:8080/"
        },
        "id": "Vg7uWsoWcZNR",
        "outputId": "5b9123a7-67ed-465f-9927-94de6402e064"
      },
      "execution_count": null,
      "outputs": [
        {
          "output_type": "stream",
          "name": "stdout",
          "text": [
            "Masukkan bilangan: 5\n",
            "Bilangan Ganjil\n"
          ]
        }
      ]
    },
    {
      "cell_type": "code",
      "source": [
        "nilai = 80\n",
        "if nilai >= 90:\n",
        "  print(\"Luar biasa! Nilai A\")\n",
        "elif nilai >= 80:\n",
        "  print(\"Bagus! Nilai B\")\n",
        "elif nilai >= 70:\n",
        "  print(\"Cukup. Nilai C\")\n",
        "else:\n",
        "  print(\"Nilai kurang, perlu belajar lebih giat.\")"
      ],
      "metadata": {
        "colab": {
          "base_uri": "https://localhost:8080/"
        },
        "id": "_lEQLvTWdX-C",
        "outputId": "f5183fc0-2da5-4e3a-de38-c6832889b2b7"
      },
      "execution_count": null,
      "outputs": [
        {
          "output_type": "stream",
          "name": "stdout",
          "text": [
            "Bagus! Nilai B\n"
          ]
        }
      ]
    },
    {
      "cell_type": "code",
      "source": [
        "hari: str = \"Sabtu\"\n",
        "if hari == \"Sabtu\" or hari == \"Minggu\":\n",
        "  diskon: float = 0.20\n",
        "  print(f\"Selamat! Anda mendapat diskon akhir pekan sebesar {diskon*100}%.\")\n",
        "elif hari == \"Jumaat\":\n",
        "  diskon: float = 0.15 # Dsikon 15%\n",
        "  print(f\"Diskon spesial Jumaat! Anda mendapat potongan {diskon*100}%.\")\n",
        "else:\n",
        "  diskon: float = 0.05 # Diskon 5%\n",
        "  print(f\"Anda mendapat diskon hari biasa sebesar {dsikon*100}%.\")\n"
      ],
      "metadata": {
        "colab": {
          "base_uri": "https://localhost:8080/"
        },
        "id": "8WpgGwCeeMcj",
        "outputId": "c603874a-1a4f-46f9-e2d0-e901ea2231c7"
      },
      "execution_count": null,
      "outputs": [
        {
          "output_type": "stream",
          "name": "stdout",
          "text": [
            "Selamat! Anda mendapat diskon akhir pekan sebesar 20.0%.\n"
          ]
        }
      ]
    },
    {
      "cell_type": "code",
      "source": [
        "rupiah = int(input(\"Masukkan jumlah uang (Rp): \"))\n",
        "print(\"1. Dollar (USD)\")\n",
        "print(\"2. Euro (EUR)\")\n",
        "print(\"3. Yen (JYP)\")\n",
        "pilih = int(input(\"Pilih konveri (1/2/3): \"))\n",
        "if pilih ==  1:\n",
        "  print(\"Dalam Dollar:\", rupiah / 15000)\n",
        "elif pilih == 2:\n",
        "  print(\"Dalam Euro:\", rupiah / 16000)\n",
        "elif pilih == 3:\n",
        "  print(\"Dalam Yen:\", rupiah / 120)\n",
        "else:\n",
        "  print(\"Pilihan tidak valid\")"
      ],
      "metadata": {
        "colab": {
          "base_uri": "https://localhost:8080/"
        },
        "id": "XRQzwcpDfqDc",
        "outputId": "be7ba8a6-a2f1-4bd8-db58-e9d2aa31bdd2"
      },
      "execution_count": null,
      "outputs": [
        {
          "output_type": "stream",
          "name": "stdout",
          "text": [
            "Masukkan jumlah uang (Rp): 200000\n",
            "1. Dollar (USD)\n",
            "2. Euro (EUR)\n",
            "3. Yen (JYP)\n",
            "Pilih konveri (1/2/3): 2\n",
            "Dalam Euro: 12.5\n"
          ]
        }
      ]
    }
  ]
}