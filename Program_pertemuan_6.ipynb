{
  "nbformat": 4,
  "nbformat_minor": 0,
  "metadata": {
    "colab": {
      "provenance": [],
      "authorship_tag": "ABX9TyOaw8K/GIq3KWUT/ZJpzLXT",
      "include_colab_link": true
    },
    "kernelspec": {
      "name": "python3",
      "display_name": "Python 3"
    },
    "language_info": {
      "name": "python"
    }
  },
  "cells": [
    {
      "cell_type": "markdown",
      "metadata": {
        "id": "view-in-github",
        "colab_type": "text"
      },
      "source": [
        "<a href=\"https://colab.research.google.com/github/Mutiiaarangln/pemrograman-dasar-/blob/main/Program_pertemuan_6.ipynb\" target=\"_parent\"><img src=\"https://colab.research.google.com/assets/colab-badge.svg\" alt=\"Open In Colab\"/></a>"
      ]
    },
    {
      "cell_type": "code",
      "source": [
        "# Program: Sistem Data Mahasiswa Politeknik Negeri Batam\n",
        "# Dibuat oleh: Mutiara Nainggolan\n",
        "\n",
        "def sistem_politeknik():\n",
        "\n",
        "    mahasiswa = {\n",
        "        \"Budi\": {\"prodi\": \"Teknik Mesin\", \"ipk\": 2.9},\n",
        "        \"Siti\": {\"prodi\": \"Teknik Informatika\", \"ipk\": 3.8},\n",
        "        \"Mutiara\": {\"prodi\": \"Teknik Elektro\", \"ipk\": 3.6}\n",
        "    }\n",
        "\n",
        "    daftar_baru = []\n",
        "    jurusan = (\"Teknik Mesin\", \"Teknik Elektro\", \"Teknik Informatika\")\n",
        "    aktif = set(mahasiswa.keys())\n",
        "    lanjut = True\n",
        "\n",
        "    print(\"=== SISTEM DATA MAHASISWA POLITEKNIK NEGERI BATAM ===\")\n",
        "\n",
        "    while lanjut:\n",
        "        print(\"\\nMenu:\")\n",
        "        print(\"1. Lihat Data Mahasiswa\")\n",
        "        print(\"2. Tambah Mahasiswa\")\n",
        "        print(\"3. Cek Status Kelulusan\")\n",
        "        print(\"4. Keluar\")\n",
        "\n",
        "        pilihan = input(\"Pilih menu (1-4): \")\n",
        "\n",
        "        if pilihan == \"1\":\n",
        "            print(\"\\n Daftar Mahasiswa:\")\n",
        "            for nama, data in mahasiswa.items():\n",
        "                print(f\"- {nama} ({data['prodi']}) | IPK: {data['ipk']}\")\n",
        "\n",
        "        elif pilihan == \"2\":\n",
        "            nama = input(\"Masukkan nama mahasiswa baru: \")\n",
        "            prodi = input(\"Masukkan program studi: \")\n",
        "            ipk = float(input(\"Masukkan IPK: \"))\n",
        "            mahasiswa[nama] = {\"prodi\": prodi, \"ipk\": ipk}\n",
        "            daftar_baru.append(nama)\n",
        "            aktif.add(nama)\n",
        "            print(f\" Data {nama} berhasil ditambahkan!\")\n",
        "\n",
        "        elif pilihan == \"3\":\n",
        "            nama = input(\"Masukkan nama mahasiswa: \")\n",
        "            if nama in mahasiswa:\n",
        "                ipk = mahasiswa[nama][\"ipk\"]\n",
        "                if ipk >= 3.5:\n",
        "                    status = \"Lulus dengan Pujian\"\n",
        "                elif ipk >= 3.0:\n",
        "                    status = \"Lulus\"\n",
        "                elif ipk >= 2.0:\n",
        "                    status = \"Perlu Perbaikan\"\n",
        "                else:\n",
        "                    status = \"Tidak Lulus\"\n",
        "                print(f\"{nama} ({mahasiswa[nama]['prodi']}) - {status}\")\n",
        "            else:\n",
        "                print(\" Mahasiswa tidak ditemukan!\")\n",
        "\n",
        "        elif pilihan == \"4\":\n",
        "            lanjut = False\n",
        "        else:\n",
        "            print(\" Pilihan tidak valid!\")\n",
        "\n",
        "    print(\"\\n=== REKAP DATA AKHIR ===\")\n",
        "    print(\"Mahasiswa Aktif :\", aktif)\n",
        "    print(\"Mahasiswa Baru  :\", daftar_baru)\n",
        "    print(\"Jumlah Mahasiswa:\", len(mahasiswa))\n",
        "    print(\"Terima kasih telah menggunakan Sistem Politeknik Negeri Batam \")\n",
        "\n",
        "sistem_politeknik()\n"
      ],
      "metadata": {
        "colab": {
          "base_uri": "https://localhost:8080/"
        },
        "id": "tGIArcjRTYRm",
        "outputId": "d52fd4cd-c31d-471f-f41b-f021b03d6915"
      },
      "execution_count": null,
      "outputs": [
        {
          "output_type": "stream",
          "name": "stdout",
          "text": [
            "=== SISTEM DATA MAHASISWA POLITEKNIK NEGERI BATAM ===\n",
            "\n",
            "Menu:\n",
            "1. Lihat Data Mahasiswa\n",
            "2. Tambah Mahasiswa\n",
            "3. Cek Status Kelulusan\n",
            "4. Keluar\n",
            "Pilih menu (1-4): 1\n",
            "\n",
            " Daftar Mahasiswa:\n",
            "- Budi (Teknik Mesin) | IPK: 2.9\n",
            "- Siti (Teknik Informatika) | IPK: 3.8\n",
            "- Mutiara (Teknik Elektro) | IPK: 3.6\n",
            "\n",
            "Menu:\n",
            "1. Lihat Data Mahasiswa\n",
            "2. Tambah Mahasiswa\n",
            "3. Cek Status Kelulusan\n",
            "4. Keluar\n",
            "Pilih menu (1-4): 3\n",
            "Masukkan nama mahasiswa: Mutiara\n",
            "Mutiara (Teknik Elektro) - Lulus dengan Pujian\n",
            "\n",
            "Menu:\n",
            "1. Lihat Data Mahasiswa\n",
            "2. Tambah Mahasiswa\n",
            "3. Cek Status Kelulusan\n",
            "4. Keluar\n",
            "Pilih menu (1-4): 4\n",
            "\n",
            "=== REKAP DATA AKHIR ===\n",
            "Mahasiswa Aktif : {'Mutiara', 'Budi', 'Siti'}\n",
            "Mahasiswa Baru  : []\n",
            "Jumlah Mahasiswa: 3\n",
            "Terima kasih telah menggunakan Sistem Politeknik Negeri Batam \n"
          ]
        }
      ]
    }
  ]
}