{
  "nbformat": 4,
  "nbformat_minor": 0,
  "metadata": {
    "colab": {
      "provenance": [],
      "authorship_tag": "ABX9TyPXE6zZJwb8uw4koxZdCUZr",
      "include_colab_link": true
    },
    "kernelspec": {
      "name": "python3",
      "display_name": "Python 3"
    },
    "language_info": {
      "name": "python"
    }
  },
  "cells": [
    {
      "cell_type": "markdown",
      "metadata": {
        "id": "view-in-github",
        "colab_type": "text"
      },
      "source": [
        "<a href=\"https://colab.research.google.com/github/Mutiiaarangln/pemrograman-dasar-/blob/main/Pertemuan_3.ipynb\" target=\"_parent\"><img src=\"https://colab.research.google.com/assets/colab-badge.svg\" alt=\"Open In Colab\"/></a>"
      ]
    },
    {
      "cell_type": "code",
      "source": [
        "total =  str (input(\"Berapa porsi makan yang Anda beli?:\"))\n",
        "Nama = str (input(\"siapa Nama pelanggan?\"))\n",
        "jarak = float (input(\"berapa jarak warung bakso dari rumah sekitar?\"))\n"
      ],
      "metadata": {
        "colab": {
          "base_uri": "https://localhost:8080/"
        },
        "id": "9tzMKVGZW9YH",
        "outputId": "a57a4514-6093-4643-9566-232f9a2a9d1b"
      },
      "execution_count": 43,
      "outputs": [
        {
          "name": "stdout",
          "output_type": "stream",
          "text": [
            "Berapa porsi makan yang Anda beli?:3\n",
            "siapa Nama pelanggan?Mutiara\n",
            "berapa jarak warung bakso dari rumah sekitar?0.10\n"
          ]
        }
      ]
    },
    {
      "cell_type": "code",
      "source": [
        "food = \"ayam penyet\"\n",
        "print(\"Tiara satu kali memakan\", food)\n",
        "print(\"Tiara satu kali memakan\"+ food)\n",
        "print(\"Tiara satu kali memakan %s\" % (food))"
      ],
      "metadata": {
        "colab": {
          "base_uri": "https://localhost:8080/"
        },
        "id": "ohRKkm_IZJMI",
        "outputId": "ba4ba084-b18b-47bb-ce89-4a4305f8d890"
      },
      "execution_count": 44,
      "outputs": [
        {
          "output_type": "stream",
          "name": "stdout",
          "text": [
            "Tiara satu kali memakan ayam penyet\n",
            "Tiara satu kali memakanayam penyet\n",
            "Tiara satu kali memakan ayam penyet\n"
          ]
        }
      ]
    },
    {
      "cell_type": "code",
      "source": [
        "tahun_lahir = 2004\n",
        "bulan_lahir = 0.5\n",
        "nama = \"Mutiara\"\n",
        "print(\"tahun lahir ku %d\" % (tahun_lahir))\n",
        "print(\"untuk bulan lahir ku %f\" % (bulan_lahir))\n",
        "print(\"aku siapa %s\" % (nama))"
      ],
      "metadata": {
        "colab": {
          "base_uri": "https://localhost:8080/"
        },
        "id": "8CsF8l1caSQv",
        "outputId": "4ef326f7-6ab0-4ad5-c5c2-18020dea319d"
      },
      "execution_count": 45,
      "outputs": [
        {
          "output_type": "stream",
          "name": "stdout",
          "text": [
            "tahun lahir ku 2004\n",
            "untuk bulan lahir ku 0.500000\n",
            "aku siapa Mutiara\n"
          ]
        }
      ]
    },
    {
      "cell_type": "code",
      "source": [
        "a = 20\n",
        "b = 5\n",
        "print(\"penjumlahan:\", a + b)\n",
        "print(\"pengurangan:\", a - b)\n",
        "print(\"penjumlahan:\" , a + b)\n",
        "print(\"pembagian:\", a / b)"
      ],
      "metadata": {
        "colab": {
          "base_uri": "https://localhost:8080/"
        },
        "id": "2XbbI_IQeIvu",
        "outputId": "df9cf89a-22b1-4856-82f5-ca13dfece3c9"
      },
      "execution_count": 46,
      "outputs": [
        {
          "output_type": "stream",
          "name": "stdout",
          "text": [
            "penjumlahan: 25\n",
            "pengurangan: 15\n",
            "penjumlahan: 25\n",
            "pembagian: 4.0\n"
          ]
        }
      ]
    },
    {
      "cell_type": "code",
      "source": [
        "bilangan = 8\n",
        "hasil = (bilangan > 0) and (bilangan % 2 == 0)\n",
        "print(\"Genap dan positif?\", hasil)"
      ],
      "metadata": {
        "colab": {
          "base_uri": "https://localhost:8080/"
        },
        "id": "5JifN-dNelhz",
        "outputId": "880460a2-0b37-4083-a4e7-680a868e7df1"
      },
      "execution_count": 47,
      "outputs": [
        {
          "output_type": "stream",
          "name": "stdout",
          "text": [
            "Genap dan positif? True\n"
          ]
        }
      ]
    },
    {
      "cell_type": "code",
      "source": [
        "harga_makan = int(input(\"Berapa harga mi ayam per porsi? \"))\n",
        "jumlah_makan = int(input(\"Berapa porsi yang Anda beli? \"))\n",
        "total_makan = harga_makan * jumlah_makan\n",
        "\n",
        "print(f\"harga makan per porsi = {harga_makan}, total adalah {total_makan}\")"
      ],
      "metadata": {
        "colab": {
          "base_uri": "https://localhost:8080/"
        },
        "id": "iXd_Xoolffhb",
        "outputId": "6009aa8e-b26d-41e7-d19a-741997ad4fb9"
      },
      "execution_count": 48,
      "outputs": [
        {
          "output_type": "stream",
          "name": "stdout",
          "text": [
            "Berapa harga mi ayam per porsi? 18\n",
            "Berapa porsi yang Anda beli? 3\n",
            "harga makan per porsi = 18, total adalah 54\n"
          ]
        }
      ]
    },
    {
      "cell_type": "code",
      "source": [
        "#konversi waktu\n",
        "total_detik = 3600\n",
        "jam = total_detik // 3600\n",
        "sisa_detik = total_detik % 3600\n",
        "menit = sisa_detik // 6\n",
        "detik = sisa_detik %  60\n",
        "\n",
        "print(f\" Hasil konversi: {jam} Jam, {menit} Menit, {detik} Detik\")\n",
        "\n",
        "total_detik = int (input(\"total_detik?\"))\n"
      ],
      "metadata": {
        "colab": {
          "base_uri": "https://localhost:8080/"
        },
        "id": "ii345NqKf61W",
        "outputId": "cc128321-8f17-4565-ef18-667a46661122"
      },
      "execution_count": 40,
      "outputs": [
        {
          "name": "stdout",
          "output_type": "stream",
          "text": [
            " Hasil konversi: 1 Jam, 0 Menit, 0 Detik\n",
            "total_detik?5\n"
          ]
        }
      ]
    },
    {
      "cell_type": "code",
      "source": [
        "tugas = 80\n",
        "uts = 70\n",
        "uas = 90\n",
        "nilai_akhir = (0.3 *tugas) + (0.3 *uts) + (0.4 * uas)\n",
        "print(\"Nilai akhir =\", nilai_akhir)"
      ],
      "metadata": {
        "colab": {
          "base_uri": "https://localhost:8080/"
        },
        "id": "c4YkqTudhu5w",
        "outputId": "2da081c6-d34d-487b-e7ab-ce9a6dc7afc6"
      },
      "execution_count": 41,
      "outputs": [
        {
          "metadata": {
            "tags": null
          },
          "name": "stdout",
          "output_type": "stream",
          "text": [
            "Nilai akhir = 81.0\n"
          ]
        }
      ]
    },
    {
      "cell_type": "code",
      "source": [
        "nilai_mahasiswa = 95\n",
        "standar_kelulusan = 80\n",
        "apakah_lulus = nilai_mahasiswa >= standar_kelulusan\n",
        "perlu_remedial = nilai_mahasiswa < standar_kelulusan\n",
        "print(f\"Nilai Mahasiswa: {nilai_mahasiswa}\")\n",
        "print(f\"Standar Kelulusan: {standar_kelulusan}\")\n",
        "print(f\"Apakah Mahasiswa Lulus?  {apakah_lulus}\")\n",
        "print(f\"Perlu Remedial? {perlu_remedial}\")\n",
        "nilai_mahasiswa = int (input(\"Nilai Mahasiswa\"))\n",
        "standard_kelulusan = int (input(\"Standar Kelulusan\"))"
      ],
      "metadata": {
        "colab": {
          "base_uri": "https://localhost:8080/"
        },
        "id": "nM4uHZK0i9wa",
        "outputId": "a60c779d-f10f-41eb-c5ed-dc32fa3f2b03"
      },
      "execution_count": 58,
      "outputs": [
        {
          "name": "stdout",
          "output_type": "stream",
          "text": [
            "Nilai Mahasiswa: 95\n",
            "Standar Kelulusan: 80\n",
            "Apakah Mahasiswa Lulus?  True\n",
            "Perlu Remedial? False\n",
            "Nilai Mahasiswa95\n",
            "Standar Kelulusan80\n"
          ]
        }
      ]
    },
    {
      "cell_type": "code",
      "source": [
        "  belanja = 750000\n",
        "  diskon = (0, 0.1 * belanja)[belanja > 3500000]\n",
        "  total_harga = belanja - diskon\n",
        "  print(\"Total harga setelah diskon =\", total_harga)"
      ],
      "metadata": {
        "colab": {
          "base_uri": "https://localhost:8080/"
        },
        "id": "HDmyuM3zkEbz",
        "outputId": "a04faf8f-26a6-4433-8ba9-aa22be0cec79"
      },
      "execution_count": 59,
      "outputs": [
        {
          "output_type": "stream",
          "name": "stdout",
          "text": [
            "Total harga setelah diskon = 750000\n"
          ]
        }
      ]
    },
    {
      "cell_type": "code",
      "source": [],
      "metadata": {
        "id": "bZIfJFnVsmPa"
      },
      "execution_count": null,
      "outputs": []
    }
  ]
}