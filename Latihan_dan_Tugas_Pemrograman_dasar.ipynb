{
  "nbformat": 4,
  "nbformat_minor": 0,
  "metadata": {
    "colab": {
      "provenance": [],
      "authorship_tag": "ABX9TyNDw/KuUtuU1mxdmYE13wHh",
      "include_colab_link": true
    },
    "kernelspec": {
      "name": "python3",
      "display_name": "Python 3"
    },
    "language_info": {
      "name": "python"
    }
  },
  "cells": [
    {
      "cell_type": "markdown",
      "metadata": {
        "id": "view-in-github",
        "colab_type": "text"
      },
      "source": [
        "<a href=\"https://colab.research.google.com/github/Mutiiaarangln/pemrograman-dasar-/blob/main/Latihan_dan_Tugas_Pemrograman_dasar.ipynb\" target=\"_parent\"><img src=\"https://colab.research.google.com/assets/colab-badge.svg\" alt=\"Open In Colab\"/></a>"
      ]
    },
    {
      "cell_type": "code",
      "source": [
        "# Programan sederhana menentukan tahun kabisat\n",
        "tahun = int(input(\"masukkan tahun : \"))\n",
        "if (tahun % 4 == 0 and tahun % 100 != 0) or (tahun % 400 == 0):\n",
        "    print(tahun, \"adalah tahun kabisat\")\n",
        "else:\n",
        "    print(tahun, \"bukan tahun kabisat\")"
      ],
      "metadata": {
        "colab": {
          "base_uri": "https://localhost:8080/"
        },
        "id": "p-YSohRWNvUJ",
        "outputId": "999280f7-d156-4131-8f9a-ad8a29e8d027"
      },
      "execution_count": 3,
      "outputs": [
        {
          "output_type": "stream",
          "name": "stdout",
          "text": [
            "masukkan tahun : 2024\n",
            "2024 adalah tahun kabisat\n"
          ]
        }
      ]
    },
    {
      "cell_type": "code",
      "source": [
        "# Program Sederhana\n",
        "panjang_balok = float(input(\"masukkan panjang: \"))\n",
        "lebar_balok = float(input(\"masukkan lebar: \"))\n",
        "tinggi_balok = float(input(\"masukkan tinggi: \"))\n",
        "\n",
        "volume = panjang_balok * lebar_balok * tinggi_balok\n",
        "luas_persegi_panjang = panjang_balok * lebar_balok\n",
        "\n",
        "print(\"volume balok adalah: \", volume)\n",
        "print(\"luas persegi panjang adalah: \", luas_persegi_panjang)"
      ],
      "metadata": {
        "colab": {
          "base_uri": "https://localhost:8080/"
        },
        "id": "6stWy4TiNzDr",
        "outputId": "b0f7bda9-4139-4513-a128-861bd8ddc146"
      },
      "execution_count": 4,
      "outputs": [
        {
          "output_type": "stream",
          "name": "stdout",
          "text": [
            "masukkan panjang: 10\n",
            "masukkan lebar: 6\n",
            "masukkan tinggi: 20\n",
            "volume balok adalah:  1200.0\n",
            "luas persegi panjang adalah:  60.0\n"
          ]
        }
      ]
    },
    {
      "cell_type": "code",
      "source": [
        "# Program Kasir Sederhana\n",
        "# Menentukan total belanja, diskon dan PPN\n",
        "subtotal = float(input(\"masukkan total belanja: Rp \"))\n",
        "member = input (\"Apakah pelanggan member? (y/n): \")\n",
        "if member.lower() == \"y\" and subtotal > 100000:\n",
        "  diskon = 0.15 * subtotal\n",
        "else:\n",
        "  diskon = 0\n",
        "harga_setelah_diskon = subtotal - diskon\n",
        "ppn = 0.11 * harga_setelah_diskon\n",
        "total_bayar = harga_setelah_diskon + ppn\n",
        "\n",
        "print(\"\\n=== STRUK PEMBAYARAN ===\")\n",
        "print(f\"Subtotal: Rp {subtotal:,.0f}\")\n",
        "print(f\"Diskon: Rp {diskon:,.0f}\")\n",
        "print(f\"Harga Setelah Diskon: Rp {harga_setelah_diskon:,.0f}\")\n",
        "print(f\"PPN (11%): Rp {ppn:,.0f}\")\n",
        "print(f\"Total Bayar: Rp {total_bayar:,.0f}\")"
      ],
      "metadata": {
        "colab": {
          "base_uri": "https://localhost:8080/"
        },
        "id": "B-26OedsN5hK",
        "outputId": "2b95d3d2-f9f5-4f53-a842-a8330e29c0a1"
      },
      "execution_count": 5,
      "outputs": [
        {
          "output_type": "stream",
          "name": "stdout",
          "text": [
            "masukkan total belanja: Rp 300000\n",
            "Apakah pelanggan member? (y/n): y\n",
            "\n",
            "=== STRUK PEMBAYARAN ===\n",
            "Subtotal: Rp 300,000\n",
            "Diskon: Rp 45,000\n",
            "Harga Setelah Diskon: Rp 255,000\n",
            "PPN (11%): Rp 28,050\n",
            "Total Bayar: Rp 283,050\n"
          ]
        }
      ]
    }
  ]
}